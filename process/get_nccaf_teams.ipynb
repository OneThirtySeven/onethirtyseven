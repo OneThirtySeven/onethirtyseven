{
 "cells": [
  {
   "cell_type": "code",
   "execution_count": 2,
   "metadata": {},
   "outputs": [],
   "source": [
    "import ots_backend as backend\n",
    "from json import loads\n",
    "import pandas as pd\n",
    "from requests import get"
   ]
  },
  {
   "cell_type": "code",
   "execution_count": 3,
   "metadata": {},
   "outputs": [],
   "source": [
    "ncaaf = pd.concat([pd.read_csv('../database/ncaaf_2023.csv'), pd.read_csv('../database/ncaaf_2023.csv')])"
   ]
  },
  {
   "cell_type": "code",
   "execution_count": 4,
   "metadata": {},
   "outputs": [],
   "source": [
    "ncaaf['date'] = None\n",
    "ncaaf['venue'] = None\n",
    "ncaaf['stadium_indoor'] = None\n",
    "ncaaf['city'] = None\n",
    "ncaaf['state'] = None\n",
    "ncaaf['zip'] = None\n",
    "ncaaf['grass'] = None\n",
    "ncaaf['attendance'] = None\n",
    "\n",
    "ncaaf['away_id'] = None\n",
    "ncaaf['away_school'] = None\n",
    "ncaaf['away_name'] = None\n",
    "ncaaf['away_abbreviation'] = None\n",
    "ncaaf['away_color'] = None\n",
    "\n",
    "ncaaf['home_id'] = None\n",
    "ncaaf['home_school'] = None\n",
    "ncaaf['home_name'] = None\n",
    "ncaaf['home_abbreviation'] = None\n",
    "ncaaf['home_color'] = None\n",
    "ncaaf['neutral_site'] = None\n",
    "\n",
    "for i in range(len(ncaaf)):\n",
    "    extract_main = loads(ncaaf['extract_main'].values[i])\n",
    "    extract_from_url = loads(ncaaf['extract_from_url'].values[i])\n",
    "    \n",
    "    ncaaf['date'].values[i] = extract_main.get('header').get('competitions')[0].get('date')\n",
    "    ncaaf['venue'].values[i] = extract_main.get('gameInfo').get('venue').get('fullName')\n",
    "    ncaaf['stadium_indoor'].values[i]  = extract_from_url.get('competitions')[0].get('venue').get('indoor')\n",
    "    ncaaf['city'].values[i] = extract_from_url.get('competitions')[0].get('venue').get('address').get('city')\n",
    "    ncaaf['state'].values[i] = extract_from_url.get('competitions')[0].get('venue').get('address').get('state')\n",
    "    ncaaf['zip'].values[i] = extract_from_url.get('competitions')[0].get('venue').get('address').get('zipCode')\n",
    "    ncaaf['grass'].values[i] = extract_main.get('gameInfo').get('venue').get('grass')\n",
    "    ncaaf['attendance'].values[i] = extract_main.get('gameInfo').get('attendance')\n",
    "\n",
    "    ncaaf['away_id'].values[i] = extract_main.get('boxscore').get('teams')[0].get('team').get('id', None)\n",
    "    ncaaf['away_school'].values[i] = extract_main.get('boxscore').get('teams')[0].get('team').get('location', None)\n",
    "    ncaaf['away_name'].values[i] = extract_main.get('boxscore').get('teams')[0].get('team').get('name', None)\n",
    "    ncaaf['away_abbreviation'].values[i] = extract_main.get('boxscore').get('teams')[0].get('team').get('abbreviation', None)\n",
    "    ncaaf['away_color'].values[i] = extract_main.get('boxscore').get('teams')[0].get('team').get('color', None)\n",
    "\n",
    "    ncaaf['home_id'].values[i] = extract_main.get('boxscore').get('teams')[1].get('team').get('id', None)\n",
    "    ncaaf['home_school'].values[i] = extract_main.get('boxscore').get('teams')[1].get('team').get('location', None)\n",
    "    ncaaf['home_name'].values[i] = extract_main.get('boxscore').get('teams')[1].get('team').get('name', None)\n",
    "    ncaaf['home_abbreviation'].values[i] = extract_main.get('boxscore').get('teams')[1].get('team').get('abbreviation', None)\n",
    "    ncaaf['home_color'].values[i] = extract_main.get('boxscore').get('teams')[1].get('team').get('color', None)\n",
    "\n",
    "    ncaaf['neutral_site'].values[i] = extract_from_url.get('competitions')[0].get('neutralSite')\n",
    "\n",
    "Teams = ncaaf[['home_id', 'home_school', 'home_name', 'home_abbreviation', 'home_color', 'venue', 'city', 'state', 'zip', 'grass', 'stadium_indoor', 'neutral_site']]\n",
    "Teams = Teams.rename(columns = {'home_id':'espn_id', 'home_school':'school', 'home_name':'name', 'home_abbreviation':'abbreviation', 'home_color':'color', 'venue':'stadium'})\n",
    "Teams_count = Teams.groupby('school').count().sort_values('espn_id').reset_index(drop=False)\n",
    "Teams_count = Teams_count.rename(columns = {'espn_id':'espn_id_count'})\n",
    "Teams_count = Teams_count[['school', 'espn_id_count']]\n",
    "Teams = Teams.merge(Teams_count, how = 'left', on = 'school')\n",
    "Teams = Teams[Teams['espn_id_count'] > 5]\n",
    "Teams = Teams[Teams['neutral_site'] == False]\n",
    "Teams = Teams.drop_duplicates(subset=['school'])\n",
    "Teams = Teams.drop(columns=['espn_id_count', 'neutral_site'])\n",
    "Teams['division'] = None"
   ]
  },
  {
   "cell_type": "code",
   "execution_count": 5,
   "metadata": {},
   "outputs": [],
   "source": [
    "for i in range(len(Teams)):\n",
    "    espn_id = Teams['espn_id'].values[i]\n",
    "    res = get('https://sports.core.api.espn.com/v2/sports/football/leagues/college-football/seasons/2023/teams/' + str(espn_id) + '?lang=en&region=us')\n",
    "    res = loads(res.content.decode('utf-8'))\n",
    "    res = get(res.get('groups').get('$ref'))\n",
    "    res = loads(res.content.decode('utf-8'))\n",
    "    \n",
    "    Teams['division'].values[i] = res.get('midsizeName')"
   ]
  },
  {
   "cell_type": "code",
   "execution_count": 6,
   "metadata": {},
   "outputs": [],
   "source": [
    "Teams.to_csv('../ots_backend/assets/ncaaf_teams.csv', index=False)"
   ]
  },
  {
   "cell_type": "code",
   "execution_count": 8,
   "metadata": {},
   "outputs": [],
   "source": [
    "Teams.to_json('../ots_backend/assets/ncaaf_teams.json', index=False, orient='records')"
   ]
  }
 ],
 "metadata": {
  "kernelspec": {
   "display_name": "env",
   "language": "python",
   "name": "python3"
  },
  "language_info": {
   "codemirror_mode": {
    "name": "ipython",
    "version": 3
   },
   "file_extension": ".py",
   "mimetype": "text/x-python",
   "name": "python",
   "nbconvert_exporter": "python",
   "pygments_lexer": "ipython3",
   "version": "3.10.12"
  }
 },
 "nbformat": 4,
 "nbformat_minor": 2
}
